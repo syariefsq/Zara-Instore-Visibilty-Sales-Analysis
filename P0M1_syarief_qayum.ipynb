{
  "cells": [
    {
      "cell_type": "markdown",
      "id": "7d426c4a",
      "metadata": {},
      "source": [
        "Link to Dashboard: [Zara In-store Sales Analysis](https://public.tableau.com/views/ZaraIn-storeSalesAnalysis/DataVisualization?:language=en-US&publish=yes&:sid=&:redirect=auth&:display_count=n&:origin=viz_share_link)"
      ]
    },
    {
      "cell_type": "markdown",
      "id": "e119385e",
      "metadata": {
        "id": "e119385e"
      },
      "source": [
        "# 1. Introduction\n",
        "\n"
      ]
    },
    {
      "cell_type": "markdown",
      "id": "536da34a",
      "metadata": {},
      "source": [
        "=================================================\n",
        "\n",
        "**Milestones 1**\n",
        "\n",
        "Nama  : Syarief Qayum Suaib\n",
        "\n",
        "Batch : FDTS 43 \n",
        "\n",
        "The objective of this task is a role play to become a data anlyst by building argument on a business cases using SMART Framework and preparing relevant Data to do an indepth analysis to gain insight to answer the problem statement on the business. \n",
        "\n",
        "We use statistical approach both descriptive and inferential to answer key questions from the busienss problem and visualize the result with a Dashboard using Tableau. \n",
        "\n",
        "We end the analysis with takeaway summmary and recommendations for the business.\n",
        "\n",
        "================================================="
      ]
    },
    {
      "cell_type": "markdown",
      "id": "69a413d7",
      "metadata": {
        "id": "69a413d7"
      },
      "source": [
        "# 2. Problem Statement and Dataset Description"
      ]
    },
    {
      "cell_type": "markdown",
      "id": "ce8bd6df",
      "metadata": {
        "id": "ce8bd6df"
      },
      "source": [
        "## Main Topic"
      ]
    },
    {
      "cell_type": "markdown",
      "id": "zcG2-K0mIznB",
      "metadata": {
        "id": "zcG2-K0mIznB"
      },
      "source": [
        "![download.png](data:image/png;base64,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)"
      ]
    },
    {
      "cell_type": "markdown",
      "id": "2158fa86",
      "metadata": {
        "id": "2158fa86"
      },
      "source": [
        "\n",
        "---\n",
        "Zara is a fast retail business that has a rapid inventory turnover and strategically driven by data for their merchandising. Zara main business channel is offline stores where product placement, promotion visibility and merchandising play an impotant role to significantly influences Zara's sales.\n",
        "\n",
        "Zara is constanly working on their strategy to push across their division on how they will effectively uses data to do an effective marketing and in-store layouting. Marketing department uses datas to fine tune their campaign and sales initiative to increase unit sold volumes.\n",
        "\n",
        "Seasonally, Zara will run a campaign in-store where they decorate, rotates and highlight their merchandise with promotion materials. These will hopefully affect how the consumer behave in-store and increase their intention to buy products.\n",
        "\n",
        "---\n",
        "\n"
      ]
    },
    {
      "cell_type": "markdown",
      "id": "86314df2",
      "metadata": {
        "id": "86314df2"
      },
      "source": [
        "## Business Understanding"
      ]
    },
    {
      "cell_type": "markdown",
      "id": "6680745f",
      "metadata": {
        "id": "6680745f"
      },
      "source": [
        "\n",
        "\n",
        "---\n",
        "\n",
        "\n",
        "### SMART Framework\n",
        "\n",
        "- ***Specific:*** Increase overall sales volume during seasonal campaign by +50% through promotion and finding which product placement that significanlty impact the sales increase.\n",
        "\n",
        "\n",
        "\n",
        "- ***Measurable:*** Zara campaign success can be tracked with metrics such as QoQ (quarter) or CoC (campaign) sales increase and Effectiveness on merchandising by looking at sales volume, revenue by category/product comparisan based on different product placement.\n",
        "\n",
        "\n",
        "- ***Achievable:*** This analysis can be achieved by looking at the sales and scan data at the purchase point/store level periodically after each campaign. With the data gathered we can use Python pandas library to run the analysis and visualize the result using Tableau.\n",
        "\n",
        "\n",
        "- ***Relevant:*** This analysis will help Zara to do a better campaign. Zara will need an agile decision making for its fast fashioned nature. In-store merchandising will be the key component to increase sales in-store and identifying what works during the marketing campaign. Ultimately, this will bring to a high revenue and profitablity.\n",
        "\n",
        "\n",
        "- ***Time-Bound:*** The analysis can be done based on campaign or periodically such as monthly/quarterly or based on fashion season.\n",
        "\n",
        "---\n",
        "\n",
        "\n"
      ]
    },
    {
      "cell_type": "markdown",
      "id": "ee859f55",
      "metadata": {
        "id": "ee859f55"
      },
      "source": [
        "### Problem Statement\n",
        "\n",
        "Zara as a fast retail business need a way to measure the success of their season campaign in store level. This can be achieved by tracking the sales data based on the product placement and promotion of product lines on periodic and campaign bases."
      ]
    },
    {
      "cell_type": "markdown",
      "id": "47437c9e",
      "metadata": {
        "id": "47437c9e"
      },
      "source": [
        "### Breaking Down The Problem"
      ]
    },
    {
      "cell_type": "markdown",
      "id": "3d5f2da6",
      "metadata": {
        "id": "3d5f2da6"
      },
      "source": [
        "#### 5W + 1H\n",
        "\n",
        ">\n",
        "\n",
        "- ***Who?***    Which product items is being  listed during promotion campaign in Zara?\n",
        "\n",
        "- ***What?***   What is the most highest sales among all the product line in Zara store?\n",
        "\n",
        "- ***Where?***  Where is the best product placement that generate higher sales?\n",
        "\n",
        "- ***When?***   When is the best time to place product in certain location in store?\n",
        "\n",
        "- ***Why?***    Why is it important to tag seasonal and promotion to certain product line?\n",
        "\n",
        "- ***How?***    How is the correlation in-store product placement towards sales perfomance?"
      ]
    },
    {
      "cell_type": "markdown",
      "id": "f31c5a13",
      "metadata": {
        "id": "f31c5a13"
      },
      "source": [
        "## Data Understanding"
      ]
    },
    {
      "cell_type": "markdown",
      "id": "1492ca86",
      "metadata": {
        "id": "1492ca86"
      },
      "source": [
        "### Dataset Decsription\n",
        "\n",
        "This dataset contained 252 rows of instore information during a specific campaign period in a Zara store."
      ]
    },
    {
      "cell_type": "markdown",
      "id": "653f6759",
      "metadata": {
        "id": "653f6759"
      },
      "source": [
        "### Context\n",
        "\n",
        "This dataset is based on Zara sales on a promotional period for in a seasonal basis at specific store sales."
      ]
    },
    {
      "cell_type": "markdown",
      "id": "9a55876f",
      "metadata": {
        "id": "9a55876f"
      },
      "source": [
        "### Content\n",
        "\n",
        "This datasets contains information about sales metrics that includes the units solds or volume, prices and revenue.\n",
        "\n",
        "Additional information contained are Zara in-store promotional item, product placement, seasonal tag, category and product type."
      ]
    },
    {
      "cell_type": "markdown",
      "id": "2b0bcc4e",
      "metadata": {
        "id": "2b0bcc4e"
      },
      "source": [
        "# 3. Data Preparation"
      ]
    },
    {
      "cell_type": "markdown",
      "id": "05c94e98",
      "metadata": {
        "id": "05c94e98"
      },
      "source": [
        "### Data Loading"
      ]
    },
    {
      "cell_type": "markdown",
      "id": "eab12ce4",
      "metadata": {},
      "source": [
        "#### Step 1: Load the dataset\n",
        "We'll start by importing `pandas` and loading our CSV file into a DataFrame."
      ]
    },
    {
      "cell_type": "code",
      "execution_count": 42,
      "id": "96f44c8d",
      "metadata": {
        "id": "96f44c8d"
      },
      "outputs": [],
      "source": [
        "import pandas as pd"
      ]
    },
    {
      "cell_type": "code",
      "execution_count": 43,
      "id": "0598e3c4",
      "metadata": {
        "id": "0598e3c4"
      },
      "outputs": [],
      "source": [
        "# saving data to variable\n",
        "df = pd.read_csv('P0M1_syarief_qayum.csv')"
      ]
    },
    {
      "cell_type": "markdown",
      "id": "db860093",
      "metadata": {},
      "source": [
        "#### Step 3: Review Data\n",
        "We review the head of the dataframe to ensure the is correctly obtained"
      ]
    },
    {
      "cell_type": "code",
      "execution_count": 44,
      "id": "0f1be020",
      "metadata": {
        "id": "0f1be020",
        "outputId": "288b1216-2495-4cee-8d15-ba382c18b23d"
      },
      "outputs": [
        {
          "data": {
            "text/html": [
              "<div>\n",
              "<style scoped>\n",
              "    .dataframe tbody tr th:only-of-type {\n",
              "        vertical-align: middle;\n",
              "    }\n",
              "\n",
              "    .dataframe tbody tr th {\n",
              "        vertical-align: top;\n",
              "    }\n",
              "\n",
              "    .dataframe thead th {\n",
              "        text-align: right;\n",
              "    }\n",
              "</style>\n",
              "<table border=\"1\" class=\"dataframe\">\n",
              "  <thead>\n",
              "    <tr style=\"text-align: right;\">\n",
              "      <th></th>\n",
              "      <th>Product ID</th>\n",
              "      <th>Product Position</th>\n",
              "      <th>Promotion</th>\n",
              "      <th>Product Category</th>\n",
              "      <th>Seasonal</th>\n",
              "      <th>Sales Volume</th>\n",
              "      <th>brand</th>\n",
              "      <th>url</th>\n",
              "      <th>sku</th>\n",
              "      <th>name</th>\n",
              "      <th>description</th>\n",
              "      <th>price</th>\n",
              "      <th>revenue</th>\n",
              "      <th>currency</th>\n",
              "      <th>scraped_at</th>\n",
              "      <th>terms</th>\n",
              "      <th>section</th>\n",
              "    </tr>\n",
              "  </thead>\n",
              "  <tbody>\n",
              "    <tr>\n",
              "      <th>0</th>\n",
              "      <td>183825</td>\n",
              "      <td>Aisle</td>\n",
              "      <td>Yes</td>\n",
              "      <td>Clothing</td>\n",
              "      <td>Yes</td>\n",
              "      <td>2989</td>\n",
              "      <td>Zara</td>\n",
              "      <td>https://www.zara.com/us/en/plaid-tie-dye-overs...</td>\n",
              "      <td>281593208-015-2</td>\n",
              "      <td>PLAID TIE DYE OVERSHIRT</td>\n",
              "      <td>Regular fit overshirt made of cotton. Lapel co...</td>\n",
              "      <td>19.99</td>\n",
              "      <td>59,750</td>\n",
              "      <td>USD</td>\n",
              "      <td>2024-02-19 8:51:41</td>\n",
              "      <td>jackets</td>\n",
              "      <td>MAN</td>\n",
              "    </tr>\n",
              "    <tr>\n",
              "      <th>1</th>\n",
              "      <td>123047</td>\n",
              "      <td>Aisle</td>\n",
              "      <td>No</td>\n",
              "      <td>Clothing</td>\n",
              "      <td>Yes</td>\n",
              "      <td>2985</td>\n",
              "      <td>Zara</td>\n",
              "      <td>https://www.zara.com/us/en/fine-knit-crop-swea...</td>\n",
              "      <td>313027279-800-2</td>\n",
              "      <td>SUIT JACKET IN 100% LINEN</td>\n",
              "      <td>Quilted jacket made of technical fabric. Lapel...</td>\n",
              "      <td>109.00</td>\n",
              "      <td>325,365</td>\n",
              "      <td>USD</td>\n",
              "      <td>2024-02-19 9:10:37</td>\n",
              "      <td>t-shirts</td>\n",
              "      <td>MAN</td>\n",
              "    </tr>\n",
              "    <tr>\n",
              "      <th>2</th>\n",
              "      <td>113435</td>\n",
              "      <td>Aisle</td>\n",
              "      <td>No</td>\n",
              "      <td>Clothing</td>\n",
              "      <td>Yes</td>\n",
              "      <td>2973</td>\n",
              "      <td>Zara</td>\n",
              "      <td>https://www.zara.com/us/en/foil-knit-crop-swea...</td>\n",
              "      <td>320278659-251-2</td>\n",
              "      <td>RIB COLLAR JACKET</td>\n",
              "      <td>Overshirt made of stretchy fabric. Lapel colla...</td>\n",
              "      <td>129.00</td>\n",
              "      <td>383,517</td>\n",
              "      <td>USD</td>\n",
              "      <td>2024-02-19 9:10:43</td>\n",
              "      <td>jackets</td>\n",
              "      <td>MAN</td>\n",
              "    </tr>\n",
              "    <tr>\n",
              "      <th>3</th>\n",
              "      <td>117590</td>\n",
              "      <td>End-cap</td>\n",
              "      <td>No</td>\n",
              "      <td>Clothing</td>\n",
              "      <td>No</td>\n",
              "      <td>2968</td>\n",
              "      <td>Zara</td>\n",
              "      <td>https://www.zara.com/us/en/contrasting-collar-...</td>\n",
              "      <td>320298385-807-2</td>\n",
              "      <td>CONTRASTING COLLAR JACKET</td>\n",
              "      <td>Relaxed fit jacket. Contrasting lapel collar a...</td>\n",
              "      <td>79.90</td>\n",
              "      <td>237,143</td>\n",
              "      <td>USD</td>\n",
              "      <td>2024-02-19 8:50:09</td>\n",
              "      <td>jackets</td>\n",
              "      <td>MAN</td>\n",
              "    </tr>\n",
              "    <tr>\n",
              "      <th>4</th>\n",
              "      <td>192936</td>\n",
              "      <td>End-cap</td>\n",
              "      <td>No</td>\n",
              "      <td>Clothing</td>\n",
              "      <td>Yes</td>\n",
              "      <td>2942</td>\n",
              "      <td>Zara</td>\n",
              "      <td>https://www.zara.com/us/en/double-faced-jacket...</td>\n",
              "      <td>312368260-800-2</td>\n",
              "      <td>DOUBLE FACED JACKET</td>\n",
              "      <td>Jacket made of faux leather faux shearling wit...</td>\n",
              "      <td>139.00</td>\n",
              "      <td>408,938</td>\n",
              "      <td>USD</td>\n",
              "      <td>2024-02-19 8:50:08</td>\n",
              "      <td>jackets</td>\n",
              "      <td>MAN</td>\n",
              "    </tr>\n",
              "  </tbody>\n",
              "</table>\n",
              "</div>"
            ],
            "text/plain": [
              "   Product ID Product Position Promotion Product Category Seasonal  \\\n",
              "0      183825            Aisle       Yes         Clothing      Yes   \n",
              "1      123047            Aisle        No         Clothing      Yes   \n",
              "2      113435            Aisle        No         Clothing      Yes   \n",
              "3      117590          End-cap        No         Clothing       No   \n",
              "4      192936          End-cap        No         Clothing      Yes   \n",
              "\n",
              "   Sales Volume brand                                                url  \\\n",
              "0          2989  Zara  https://www.zara.com/us/en/plaid-tie-dye-overs...   \n",
              "1          2985  Zara  https://www.zara.com/us/en/fine-knit-crop-swea...   \n",
              "2          2973  Zara  https://www.zara.com/us/en/foil-knit-crop-swea...   \n",
              "3          2968  Zara  https://www.zara.com/us/en/contrasting-collar-...   \n",
              "4          2942  Zara  https://www.zara.com/us/en/double-faced-jacket...   \n",
              "\n",
              "               sku                       name  \\\n",
              "0  281593208-015-2    PLAID TIE DYE OVERSHIRT   \n",
              "1  313027279-800-2  SUIT JACKET IN 100% LINEN   \n",
              "2  320278659-251-2          RIB COLLAR JACKET   \n",
              "3  320298385-807-2  CONTRASTING COLLAR JACKET   \n",
              "4  312368260-800-2        DOUBLE FACED JACKET   \n",
              "\n",
              "                                         description   price  revenue  \\\n",
              "0  Regular fit overshirt made of cotton. Lapel co...   19.99   59,750   \n",
              "1  Quilted jacket made of technical fabric. Lapel...  109.00  325,365   \n",
              "2  Overshirt made of stretchy fabric. Lapel colla...  129.00  383,517   \n",
              "3  Relaxed fit jacket. Contrasting lapel collar a...   79.90  237,143   \n",
              "4  Jacket made of faux leather faux shearling wit...  139.00  408,938   \n",
              "\n",
              "  currency          scraped_at     terms section  \n",
              "0      USD  2024-02-19 8:51:41   jackets     MAN  \n",
              "1      USD  2024-02-19 9:10:37  t-shirts     MAN  \n",
              "2      USD  2024-02-19 9:10:43   jackets     MAN  \n",
              "3      USD  2024-02-19 8:50:09   jackets     MAN  \n",
              "4      USD  2024-02-19 8:50:08   jackets     MAN  "
            ]
          },
          "execution_count": 44,
          "metadata": {},
          "output_type": "execute_result"
        }
      ],
      "source": [
        "# preview dataframe head entries\n",
        "df.head()"
      ]
    },
    {
      "cell_type": "markdown",
      "id": "471423a0",
      "metadata": {},
      "source": [
        "Checking the summary data to have an overview of all the data entries, column, null data and data type."
      ]
    },
    {
      "cell_type": "code",
      "execution_count": 45,
      "id": "f1cf7057",
      "metadata": {
        "id": "f1cf7057",
        "outputId": "544d4fda-2c30-4754-f0eb-139dd86fd60b"
      },
      "outputs": [
        {
          "name": "stdout",
          "output_type": "stream",
          "text": [
            "<class 'pandas.core.frame.DataFrame'>\n",
            "RangeIndex: 252 entries, 0 to 251\n",
            "Data columns (total 17 columns):\n",
            " #   Column            Non-Null Count  Dtype  \n",
            "---  ------            --------------  -----  \n",
            " 0   Product ID        252 non-null    int64  \n",
            " 1   Product Position  252 non-null    object \n",
            " 2   Promotion         252 non-null    object \n",
            " 3   Product Category  252 non-null    object \n",
            " 4   Seasonal          252 non-null    object \n",
            " 5   Sales Volume      252 non-null    int64  \n",
            " 6   brand             252 non-null    object \n",
            " 7   url               252 non-null    object \n",
            " 8   sku               252 non-null    object \n",
            " 9   name              251 non-null    object \n",
            " 10  description       250 non-null    object \n",
            " 11  price             252 non-null    float64\n",
            " 12  revenue           252 non-null    object \n",
            " 13  currency          252 non-null    object \n",
            " 14  scraped_at        252 non-null    object \n",
            " 15  terms             252 non-null    object \n",
            " 16  section           252 non-null    object \n",
            "dtypes: float64(1), int64(2), object(14)\n",
            "memory usage: 33.6+ KB\n"
          ]
        }
      ],
      "source": [
        "# checking data summary\n",
        "df.info()"
      ]
    },
    {
      "cell_type": "markdown",
      "id": "27d9c1a3",
      "metadata": {
        "id": "27d9c1a3"
      },
      "source": [
        "# 4. Data Cleaning"
      ]
    },
    {
      "cell_type": "markdown",
      "id": "63074541",
      "metadata": {
        "id": "63074541"
      },
      "source": [
        "Changing 'revenue' data type to 'integer'. Therefore, we can do further statistical analysis on the values of the column."
      ]
    },
    {
      "cell_type": "code",
      "execution_count": 46,
      "id": "819b6834",
      "metadata": {
        "id": "819b6834"
      },
      "outputs": [
        {
          "data": {
            "text/plain": [
              "0       590750\n",
              "1      3250365\n",
              "2      3830517\n",
              "3      2370143\n",
              "4      4080938\n",
              "        ...   \n",
              "247     310038\n",
              "248     300239\n",
              "249     260728\n",
              "250      40331\n",
              "251     310687\n",
              "Name: revenue, Length: 252, dtype: int64"
            ]
          },
          "execution_count": 46,
          "metadata": {},
          "output_type": "execute_result"
        }
      ],
      "source": [
        "# changing the data type\n",
        "df['revenue'] = df['revenue'].str.replace(',','0')\n",
        "df['revenue'] = pd.to_numeric(df['revenue'])\n",
        "\n",
        "df['revenue'] = df['revenue'].astype(int)\n",
        "\n",
        "df['revenue']"
      ]
    },
    {
      "cell_type": "markdown",
      "id": "5df2caf7",
      "metadata": {
        "id": "5df2caf7"
      },
      "source": [
        "To simpfily datasets we remove some columns without impacting the result of analysis. We keep the relevant columns to give context for the overall datasets. \n",
        "\n",
        "The columns that we removed are: \n",
        "\n",
        "- url : we do not need url for this analysis\n",
        "- scraped_at : this tells us when is the data obtained but since we will only use assumption for the period.\n",
        "- skus : we already have Product ID\n",
        "- description : we do not need description of product\n",
        "- brand : we only analyze Zara brand.\n"
      ]
    },
    {
      "cell_type": "code",
      "execution_count": 47,
      "id": "33d44d10",
      "metadata": {
        "id": "33d44d10"
      },
      "outputs": [
        {
          "data": {
            "text/html": [
              "<div>\n",
              "<style scoped>\n",
              "    .dataframe tbody tr th:only-of-type {\n",
              "        vertical-align: middle;\n",
              "    }\n",
              "\n",
              "    .dataframe tbody tr th {\n",
              "        vertical-align: top;\n",
              "    }\n",
              "\n",
              "    .dataframe thead th {\n",
              "        text-align: right;\n",
              "    }\n",
              "</style>\n",
              "<table border=\"1\" class=\"dataframe\">\n",
              "  <thead>\n",
              "    <tr style=\"text-align: right;\">\n",
              "      <th></th>\n",
              "      <th>Product ID</th>\n",
              "      <th>Product Position</th>\n",
              "      <th>Promotion</th>\n",
              "      <th>Product Category</th>\n",
              "      <th>Seasonal</th>\n",
              "      <th>Sales Volume</th>\n",
              "      <th>name</th>\n",
              "      <th>price</th>\n",
              "      <th>revenue</th>\n",
              "      <th>currency</th>\n",
              "      <th>terms</th>\n",
              "      <th>section</th>\n",
              "    </tr>\n",
              "  </thead>\n",
              "  <tbody>\n",
              "    <tr>\n",
              "      <th>0</th>\n",
              "      <td>183825</td>\n",
              "      <td>Aisle</td>\n",
              "      <td>Yes</td>\n",
              "      <td>Clothing</td>\n",
              "      <td>Yes</td>\n",
              "      <td>2989</td>\n",
              "      <td>PLAID TIE DYE OVERSHIRT</td>\n",
              "      <td>19.99</td>\n",
              "      <td>590750</td>\n",
              "      <td>USD</td>\n",
              "      <td>jackets</td>\n",
              "      <td>MAN</td>\n",
              "    </tr>\n",
              "    <tr>\n",
              "      <th>1</th>\n",
              "      <td>123047</td>\n",
              "      <td>Aisle</td>\n",
              "      <td>No</td>\n",
              "      <td>Clothing</td>\n",
              "      <td>Yes</td>\n",
              "      <td>2985</td>\n",
              "      <td>SUIT JACKET IN 100% LINEN</td>\n",
              "      <td>109.00</td>\n",
              "      <td>3250365</td>\n",
              "      <td>USD</td>\n",
              "      <td>t-shirts</td>\n",
              "      <td>MAN</td>\n",
              "    </tr>\n",
              "    <tr>\n",
              "      <th>2</th>\n",
              "      <td>113435</td>\n",
              "      <td>Aisle</td>\n",
              "      <td>No</td>\n",
              "      <td>Clothing</td>\n",
              "      <td>Yes</td>\n",
              "      <td>2973</td>\n",
              "      <td>RIB COLLAR JACKET</td>\n",
              "      <td>129.00</td>\n",
              "      <td>3830517</td>\n",
              "      <td>USD</td>\n",
              "      <td>jackets</td>\n",
              "      <td>MAN</td>\n",
              "    </tr>\n",
              "    <tr>\n",
              "      <th>3</th>\n",
              "      <td>117590</td>\n",
              "      <td>End-cap</td>\n",
              "      <td>No</td>\n",
              "      <td>Clothing</td>\n",
              "      <td>No</td>\n",
              "      <td>2968</td>\n",
              "      <td>CONTRASTING COLLAR JACKET</td>\n",
              "      <td>79.90</td>\n",
              "      <td>2370143</td>\n",
              "      <td>USD</td>\n",
              "      <td>jackets</td>\n",
              "      <td>MAN</td>\n",
              "    </tr>\n",
              "    <tr>\n",
              "      <th>4</th>\n",
              "      <td>192936</td>\n",
              "      <td>End-cap</td>\n",
              "      <td>No</td>\n",
              "      <td>Clothing</td>\n",
              "      <td>Yes</td>\n",
              "      <td>2942</td>\n",
              "      <td>DOUBLE FACED JACKET</td>\n",
              "      <td>139.00</td>\n",
              "      <td>4080938</td>\n",
              "      <td>USD</td>\n",
              "      <td>jackets</td>\n",
              "      <td>MAN</td>\n",
              "    </tr>\n",
              "    <tr>\n",
              "      <th>...</th>\n",
              "      <td>...</td>\n",
              "      <td>...</td>\n",
              "      <td>...</td>\n",
              "      <td>...</td>\n",
              "      <td>...</td>\n",
              "      <td>...</td>\n",
              "      <td>...</td>\n",
              "      <td>...</td>\n",
              "      <td>...</td>\n",
              "      <td>...</td>\n",
              "      <td>...</td>\n",
              "      <td>...</td>\n",
              "    </tr>\n",
              "    <tr>\n",
              "      <th>247</th>\n",
              "      <td>185809</td>\n",
              "      <td>End-cap</td>\n",
              "      <td>No</td>\n",
              "      <td>Clothing</td>\n",
              "      <td>No</td>\n",
              "      <td>622</td>\n",
              "      <td>KNIT SWEATER WITH RIPS</td>\n",
              "      <td>49.90</td>\n",
              "      <td>310038</td>\n",
              "      <td>USD</td>\n",
              "      <td>sweaters</td>\n",
              "      <td>WOMAN</td>\n",
              "    </tr>\n",
              "    <tr>\n",
              "      <th>248</th>\n",
              "      <td>140142</td>\n",
              "      <td>Front of Store</td>\n",
              "      <td>Yes</td>\n",
              "      <td>Clothing</td>\n",
              "      <td>No</td>\n",
              "      <td>606</td>\n",
              "      <td>KNIT OPEN BACK PEARLY SWEATER</td>\n",
              "      <td>49.90</td>\n",
              "      <td>300239</td>\n",
              "      <td>USD</td>\n",
              "      <td>sweaters</td>\n",
              "      <td>WOMAN</td>\n",
              "    </tr>\n",
              "    <tr>\n",
              "      <th>249</th>\n",
              "      <td>122484</td>\n",
              "      <td>Aisle</td>\n",
              "      <td>Yes</td>\n",
              "      <td>Clothing</td>\n",
              "      <td>Yes</td>\n",
              "      <td>558</td>\n",
              "      <td>V-NECK KNIT SWEATER</td>\n",
              "      <td>47.90</td>\n",
              "      <td>260728</td>\n",
              "      <td>USD</td>\n",
              "      <td>sweaters</td>\n",
              "      <td>WOMAN</td>\n",
              "    </tr>\n",
              "    <tr>\n",
              "      <th>250</th>\n",
              "      <td>136738</td>\n",
              "      <td>Front of Store</td>\n",
              "      <td>No</td>\n",
              "      <td>Clothing</td>\n",
              "      <td>Yes</td>\n",
              "      <td>542</td>\n",
              "      <td>HIGH COLLAR KNIT SWEATER</td>\n",
              "      <td>7.99</td>\n",
              "      <td>40331</td>\n",
              "      <td>USD</td>\n",
              "      <td>sweaters</td>\n",
              "      <td>WOMAN</td>\n",
              "    </tr>\n",
              "    <tr>\n",
              "      <th>251</th>\n",
              "      <td>174708</td>\n",
              "      <td>Front of Store</td>\n",
              "      <td>No</td>\n",
              "      <td>Clothing</td>\n",
              "      <td>Yes</td>\n",
              "      <td>529</td>\n",
              "      <td>ABSTRACT JACQUARD SWEATER</td>\n",
              "      <td>59.90</td>\n",
              "      <td>310687</td>\n",
              "      <td>USD</td>\n",
              "      <td>sweaters</td>\n",
              "      <td>MAN</td>\n",
              "    </tr>\n",
              "  </tbody>\n",
              "</table>\n",
              "<p>252 rows × 12 columns</p>\n",
              "</div>"
            ],
            "text/plain": [
              "     Product ID Product Position Promotion Product Category Seasonal  \\\n",
              "0        183825            Aisle       Yes         Clothing      Yes   \n",
              "1        123047            Aisle        No         Clothing      Yes   \n",
              "2        113435            Aisle        No         Clothing      Yes   \n",
              "3        117590          End-cap        No         Clothing       No   \n",
              "4        192936          End-cap        No         Clothing      Yes   \n",
              "..          ...              ...       ...              ...      ...   \n",
              "247      185809          End-cap        No         Clothing       No   \n",
              "248      140142   Front of Store       Yes         Clothing       No   \n",
              "249      122484            Aisle       Yes         Clothing      Yes   \n",
              "250      136738   Front of Store        No         Clothing      Yes   \n",
              "251      174708   Front of Store        No         Clothing      Yes   \n",
              "\n",
              "     Sales Volume                           name   price  revenue currency  \\\n",
              "0            2989        PLAID TIE DYE OVERSHIRT   19.99   590750      USD   \n",
              "1            2985      SUIT JACKET IN 100% LINEN  109.00  3250365      USD   \n",
              "2            2973              RIB COLLAR JACKET  129.00  3830517      USD   \n",
              "3            2968      CONTRASTING COLLAR JACKET   79.90  2370143      USD   \n",
              "4            2942            DOUBLE FACED JACKET  139.00  4080938      USD   \n",
              "..            ...                            ...     ...      ...      ...   \n",
              "247           622         KNIT SWEATER WITH RIPS   49.90   310038      USD   \n",
              "248           606  KNIT OPEN BACK PEARLY SWEATER   49.90   300239      USD   \n",
              "249           558            V-NECK KNIT SWEATER   47.90   260728      USD   \n",
              "250           542       HIGH COLLAR KNIT SWEATER    7.99    40331      USD   \n",
              "251           529      ABSTRACT JACQUARD SWEATER   59.90   310687      USD   \n",
              "\n",
              "        terms section  \n",
              "0     jackets     MAN  \n",
              "1    t-shirts     MAN  \n",
              "2     jackets     MAN  \n",
              "3     jackets     MAN  \n",
              "4     jackets     MAN  \n",
              "..        ...     ...  \n",
              "247  sweaters   WOMAN  \n",
              "248  sweaters   WOMAN  \n",
              "249  sweaters   WOMAN  \n",
              "250  sweaters   WOMAN  \n",
              "251  sweaters     MAN  \n",
              "\n",
              "[252 rows x 12 columns]"
            ]
          },
          "execution_count": 47,
          "metadata": {},
          "output_type": "execute_result"
        }
      ],
      "source": [
        "# delete unused column\n",
        "df = df.drop(['url', 'scraped_at', 'sku'], axis=1)\n",
        "df = df.drop(['description'], axis=1)\n",
        "df = df.drop(['brand'], axis=1)\n",
        "\n",
        "df"
      ]
    },
    {
      "cell_type": "markdown",
      "id": "a4c44865",
      "metadata": {},
      "source": [
        "Now we notice some of the data column name and values are still written in lowercase, we'll rename the column name and unify the format to have cleaner dataframe."
      ]
    },
    {
      "cell_type": "code",
      "execution_count": 48,
      "id": "06a689d3",
      "metadata": {},
      "outputs": [
        {
          "data": {
            "text/html": [
              "<div>\n",
              "<style scoped>\n",
              "    .dataframe tbody tr th:only-of-type {\n",
              "        vertical-align: middle;\n",
              "    }\n",
              "\n",
              "    .dataframe tbody tr th {\n",
              "        vertical-align: top;\n",
              "    }\n",
              "\n",
              "    .dataframe thead th {\n",
              "        text-align: right;\n",
              "    }\n",
              "</style>\n",
              "<table border=\"1\" class=\"dataframe\">\n",
              "  <thead>\n",
              "    <tr style=\"text-align: right;\">\n",
              "      <th></th>\n",
              "      <th>Product ID</th>\n",
              "      <th>Product Position</th>\n",
              "      <th>Promotion</th>\n",
              "      <th>Product Category</th>\n",
              "      <th>Seasonal</th>\n",
              "      <th>Sales Volume</th>\n",
              "      <th>Name</th>\n",
              "      <th>Price</th>\n",
              "      <th>Revenue</th>\n",
              "      <th>Currency</th>\n",
              "      <th>Product Line</th>\n",
              "      <th>Section</th>\n",
              "    </tr>\n",
              "  </thead>\n",
              "  <tbody>\n",
              "    <tr>\n",
              "      <th>0</th>\n",
              "      <td>183825</td>\n",
              "      <td>Aisle</td>\n",
              "      <td>Yes</td>\n",
              "      <td>Clothing</td>\n",
              "      <td>Yes</td>\n",
              "      <td>2989</td>\n",
              "      <td>Plaid Tie Dye Overshirt</td>\n",
              "      <td>19.99</td>\n",
              "      <td>590750</td>\n",
              "      <td>USD</td>\n",
              "      <td>Jackets</td>\n",
              "      <td>Man</td>\n",
              "    </tr>\n",
              "    <tr>\n",
              "      <th>1</th>\n",
              "      <td>123047</td>\n",
              "      <td>Aisle</td>\n",
              "      <td>No</td>\n",
              "      <td>Clothing</td>\n",
              "      <td>Yes</td>\n",
              "      <td>2985</td>\n",
              "      <td>Suit Jacket In 100% Linen</td>\n",
              "      <td>109.00</td>\n",
              "      <td>3250365</td>\n",
              "      <td>USD</td>\n",
              "      <td>T-Shirts</td>\n",
              "      <td>Man</td>\n",
              "    </tr>\n",
              "    <tr>\n",
              "      <th>2</th>\n",
              "      <td>113435</td>\n",
              "      <td>Aisle</td>\n",
              "      <td>No</td>\n",
              "      <td>Clothing</td>\n",
              "      <td>Yes</td>\n",
              "      <td>2973</td>\n",
              "      <td>Rib Collar Jacket</td>\n",
              "      <td>129.00</td>\n",
              "      <td>3830517</td>\n",
              "      <td>USD</td>\n",
              "      <td>Jackets</td>\n",
              "      <td>Man</td>\n",
              "    </tr>\n",
              "    <tr>\n",
              "      <th>3</th>\n",
              "      <td>117590</td>\n",
              "      <td>End-cap</td>\n",
              "      <td>No</td>\n",
              "      <td>Clothing</td>\n",
              "      <td>No</td>\n",
              "      <td>2968</td>\n",
              "      <td>Contrasting Collar Jacket</td>\n",
              "      <td>79.90</td>\n",
              "      <td>2370143</td>\n",
              "      <td>USD</td>\n",
              "      <td>Jackets</td>\n",
              "      <td>Man</td>\n",
              "    </tr>\n",
              "    <tr>\n",
              "      <th>4</th>\n",
              "      <td>192936</td>\n",
              "      <td>End-cap</td>\n",
              "      <td>No</td>\n",
              "      <td>Clothing</td>\n",
              "      <td>Yes</td>\n",
              "      <td>2942</td>\n",
              "      <td>Double Faced Jacket</td>\n",
              "      <td>139.00</td>\n",
              "      <td>4080938</td>\n",
              "      <td>USD</td>\n",
              "      <td>Jackets</td>\n",
              "      <td>Man</td>\n",
              "    </tr>\n",
              "    <tr>\n",
              "      <th>...</th>\n",
              "      <td>...</td>\n",
              "      <td>...</td>\n",
              "      <td>...</td>\n",
              "      <td>...</td>\n",
              "      <td>...</td>\n",
              "      <td>...</td>\n",
              "      <td>...</td>\n",
              "      <td>...</td>\n",
              "      <td>...</td>\n",
              "      <td>...</td>\n",
              "      <td>...</td>\n",
              "      <td>...</td>\n",
              "    </tr>\n",
              "    <tr>\n",
              "      <th>247</th>\n",
              "      <td>185809</td>\n",
              "      <td>End-cap</td>\n",
              "      <td>No</td>\n",
              "      <td>Clothing</td>\n",
              "      <td>No</td>\n",
              "      <td>622</td>\n",
              "      <td>Knit Sweater With Rips</td>\n",
              "      <td>49.90</td>\n",
              "      <td>310038</td>\n",
              "      <td>USD</td>\n",
              "      <td>Sweaters</td>\n",
              "      <td>Woman</td>\n",
              "    </tr>\n",
              "    <tr>\n",
              "      <th>248</th>\n",
              "      <td>140142</td>\n",
              "      <td>Front of Store</td>\n",
              "      <td>Yes</td>\n",
              "      <td>Clothing</td>\n",
              "      <td>No</td>\n",
              "      <td>606</td>\n",
              "      <td>Knit Open Back Pearly Sweater</td>\n",
              "      <td>49.90</td>\n",
              "      <td>300239</td>\n",
              "      <td>USD</td>\n",
              "      <td>Sweaters</td>\n",
              "      <td>Woman</td>\n",
              "    </tr>\n",
              "    <tr>\n",
              "      <th>249</th>\n",
              "      <td>122484</td>\n",
              "      <td>Aisle</td>\n",
              "      <td>Yes</td>\n",
              "      <td>Clothing</td>\n",
              "      <td>Yes</td>\n",
              "      <td>558</td>\n",
              "      <td>V-Neck Knit Sweater</td>\n",
              "      <td>47.90</td>\n",
              "      <td>260728</td>\n",
              "      <td>USD</td>\n",
              "      <td>Sweaters</td>\n",
              "      <td>Woman</td>\n",
              "    </tr>\n",
              "    <tr>\n",
              "      <th>250</th>\n",
              "      <td>136738</td>\n",
              "      <td>Front of Store</td>\n",
              "      <td>No</td>\n",
              "      <td>Clothing</td>\n",
              "      <td>Yes</td>\n",
              "      <td>542</td>\n",
              "      <td>High Collar Knit Sweater</td>\n",
              "      <td>7.99</td>\n",
              "      <td>40331</td>\n",
              "      <td>USD</td>\n",
              "      <td>Sweaters</td>\n",
              "      <td>Woman</td>\n",
              "    </tr>\n",
              "    <tr>\n",
              "      <th>251</th>\n",
              "      <td>174708</td>\n",
              "      <td>Front of Store</td>\n",
              "      <td>No</td>\n",
              "      <td>Clothing</td>\n",
              "      <td>Yes</td>\n",
              "      <td>529</td>\n",
              "      <td>Abstract Jacquard Sweater</td>\n",
              "      <td>59.90</td>\n",
              "      <td>310687</td>\n",
              "      <td>USD</td>\n",
              "      <td>Sweaters</td>\n",
              "      <td>Man</td>\n",
              "    </tr>\n",
              "  </tbody>\n",
              "</table>\n",
              "<p>252 rows × 12 columns</p>\n",
              "</div>"
            ],
            "text/plain": [
              "     Product ID Product Position Promotion Product Category Seasonal  \\\n",
              "0        183825            Aisle       Yes         Clothing      Yes   \n",
              "1        123047            Aisle        No         Clothing      Yes   \n",
              "2        113435            Aisle        No         Clothing      Yes   \n",
              "3        117590          End-cap        No         Clothing       No   \n",
              "4        192936          End-cap        No         Clothing      Yes   \n",
              "..          ...              ...       ...              ...      ...   \n",
              "247      185809          End-cap        No         Clothing       No   \n",
              "248      140142   Front of Store       Yes         Clothing       No   \n",
              "249      122484            Aisle       Yes         Clothing      Yes   \n",
              "250      136738   Front of Store        No         Clothing      Yes   \n",
              "251      174708   Front of Store        No         Clothing      Yes   \n",
              "\n",
              "     Sales Volume                           Name   Price  Revenue Currency  \\\n",
              "0            2989        Plaid Tie Dye Overshirt   19.99   590750      USD   \n",
              "1            2985      Suit Jacket In 100% Linen  109.00  3250365      USD   \n",
              "2            2973              Rib Collar Jacket  129.00  3830517      USD   \n",
              "3            2968      Contrasting Collar Jacket   79.90  2370143      USD   \n",
              "4            2942            Double Faced Jacket  139.00  4080938      USD   \n",
              "..            ...                            ...     ...      ...      ...   \n",
              "247           622         Knit Sweater With Rips   49.90   310038      USD   \n",
              "248           606  Knit Open Back Pearly Sweater   49.90   300239      USD   \n",
              "249           558            V-Neck Knit Sweater   47.90   260728      USD   \n",
              "250           542       High Collar Knit Sweater    7.99    40331      USD   \n",
              "251           529      Abstract Jacquard Sweater   59.90   310687      USD   \n",
              "\n",
              "    Product Line Section  \n",
              "0        Jackets     Man  \n",
              "1       T-Shirts     Man  \n",
              "2        Jackets     Man  \n",
              "3        Jackets     Man  \n",
              "4        Jackets     Man  \n",
              "..           ...     ...  \n",
              "247     Sweaters   Woman  \n",
              "248     Sweaters   Woman  \n",
              "249     Sweaters   Woman  \n",
              "250     Sweaters   Woman  \n",
              "251     Sweaters     Man  \n",
              "\n",
              "[252 rows x 12 columns]"
            ]
          },
          "execution_count": 48,
          "metadata": {},
          "output_type": "execute_result"
        }
      ],
      "source": [
        "# Rename column\n",
        "df = df.rename(columns={\n",
        "    'name': 'Name', \n",
        "    'price': 'Price',\n",
        "    'revenue': 'Revenue',\n",
        "    'currency': 'Currency',\n",
        "    'terms': 'Product Line',\n",
        "    'section': 'Section',\n",
        "    })\n",
        "\n",
        "# converting values to title format\n",
        "df[\"Product Line\"]= df[\"Product Line\"].str.upper().str.title()\n",
        "df[\"Section\"]= df[\"Section\"].str.upper().str.title()\n",
        "df[\"Name\"]= df[\"Name\"].str.upper().str.title()\n",
        "\n",
        "df"
      ]
    },
    {
      "cell_type": "markdown",
      "id": "bd2b284e",
      "metadata": {},
      "source": [
        "\n",
        "Now, that we have clean and curated dataset it will be easier for us to draw our attention to which column will be used for further analysis."
      ]
    },
    {
      "cell_type": "markdown",
      "id": "6caac083",
      "metadata": {
        "id": "6caac083"
      },
      "source": [
        "# 5. Exploration and Analysis"
      ]
    },
    {
      "cell_type": "markdown",
      "id": "9fb2956a",
      "metadata": {},
      "source": [
        "To begin with the data analysis part we'll start by importing library `matplotlib` `seaborn` `scipy` that we'll used to visualize our analysis."
      ]
    },
    {
      "cell_type": "code",
      "execution_count": 49,
      "id": "ef1d3ad7",
      "metadata": {},
      "outputs": [
        {
          "name": "stderr",
          "output_type": "stream",
          "text": [
            "/var/folders/xz/4w8g5ywd27dc5925ms3bb4tr0000gn/T/ipykernel_39429/526434965.py:5: DeprecationWarning: Importing display from IPython.core.display is deprecated since IPython 7.14, please import from IPython display\n",
            "  from IPython.core.display import display, HTML\n"
          ]
        }
      ],
      "source": [
        "# import library to use for analysis\n",
        "from scipy import stats\n",
        "import matplotlib.pyplot as plt\n",
        "import seaborn as sns\n",
        "from IPython.core.display import display, HTML"
      ]
    },
    {
      "cell_type": "markdown",
      "id": "747ccb4a",
      "metadata": {
        "id": "747ccb4a"
      },
      "source": [
        "## Data Visualization"
      ]
    },
    {
      "cell_type": "markdown",
      "id": "bb0f295d",
      "metadata": {
        "id": "bb0f295d"
      },
      "source": [
        "#### What are product listed in Zara during store campaign?\n",
        "\n",
        "First of all lets have a look on what are the product that we have in-store during campaign and understand the performance."
      ]
    },
    {
      "cell_type": "code",
      "execution_count": 50,
      "id": "deb2a6d7",
      "metadata": {},
      "outputs": [
        {
          "data": {
            "text/plain": [
              "Product Line\n",
              "Jackets     140\n",
              "Sweaters     41\n",
              "T-Shirts     32\n",
              "Shoes        31\n",
              "Jeans         8\n",
              "Name: count, dtype: int64"
            ]
          },
          "execution_count": 50,
          "metadata": {},
          "output_type": "execute_result"
        }
      ],
      "source": [
        "# showing all unique product lines\n",
        "product_line = df['Product Line'].value_counts()\n",
        "product_line"
      ]
    },
    {
      "cell_type": "markdown",
      "id": "b5066ab5",
      "metadata": {},
      "source": [
        "We will simply use python bar chart to visualize number product in each line."
      ]
    },
    {
      "cell_type": "code",
      "execution_count": 51,
      "id": "e2020e5a",
      "metadata": {},
      "outputs": [
        {
          "data": {
            "text/plain": [
              "<Axes: xlabel='Product Line'>"
            ]
          },
          "execution_count": 51,
          "metadata": {},
          "output_type": "execute_result"
        },
        {
          "data": {
            "image/png": "[encoded data removed]",
            "text/plain": [
              "<Figure size 640x480 with 1 Axes>"
            ]
          },
          "metadata": {},
          "output_type": "display_data"
        }
      ],
      "source": [
        "product_line.plot(kind='bar')"
      ]
    },
    {
      "cell_type": "markdown",
      "id": "4f3fd49d",
      "metadata": {},
      "source": [
        "As we can see from the bar chart jacket is the most listed product in Zara stores with 140 items, followed by Sweaters with 41 items and T-Shirts with 32 items."
      ]
    },
    {
      "cell_type": "markdown",
      "id": "c670203d",
      "metadata": {},
      "source": [
        "#### Where are these product being placed?\n",
        "\n",
        "As we know that we had a campaign in the stores, we want to understand where the products were being place by the merchandising team."
      ]
    },
    {
      "cell_type": "code",
      "execution_count": 52,
      "id": "662470fb",
      "metadata": {},
      "outputs": [
        {
          "data": {
            "text/html": [
              "<div>\n",
              "<style scoped>\n",
              "    .dataframe tbody tr th:only-of-type {\n",
              "        vertical-align: middle;\n",
              "    }\n",
              "\n",
              "    .dataframe tbody tr th {\n",
              "        vertical-align: top;\n",
              "    }\n",
              "\n",
              "    .dataframe thead th {\n",
              "        text-align: right;\n",
              "    }\n",
              "</style>\n",
              "<table border=\"1\" class=\"dataframe\">\n",
              "  <thead>\n",
              "    <tr style=\"text-align: right;\">\n",
              "      <th></th>\n",
              "      <th>Product Position</th>\n",
              "      <th>Product Line</th>\n",
              "      <th>Product ID</th>\n",
              "    </tr>\n",
              "  </thead>\n",
              "  <tbody>\n",
              "    <tr>\n",
              "      <th>0</th>\n",
              "      <td>Aisle</td>\n",
              "      <td>Jackets</td>\n",
              "      <td>54</td>\n",
              "    </tr>\n",
              "    <tr>\n",
              "      <th>1</th>\n",
              "      <td>Aisle</td>\n",
              "      <td>Jeans</td>\n",
              "      <td>2</td>\n",
              "    </tr>\n",
              "    <tr>\n",
              "      <th>2</th>\n",
              "      <td>Aisle</td>\n",
              "      <td>Shoes</td>\n",
              "      <td>13</td>\n",
              "    </tr>\n",
              "    <tr>\n",
              "      <th>3</th>\n",
              "      <td>Aisle</td>\n",
              "      <td>Sweaters</td>\n",
              "      <td>12</td>\n",
              "    </tr>\n",
              "    <tr>\n",
              "      <th>4</th>\n",
              "      <td>Aisle</td>\n",
              "      <td>T-Shirts</td>\n",
              "      <td>16</td>\n",
              "    </tr>\n",
              "    <tr>\n",
              "      <th>5</th>\n",
              "      <td>End-cap</td>\n",
              "      <td>Jackets</td>\n",
              "      <td>43</td>\n",
              "    </tr>\n",
              "    <tr>\n",
              "      <th>6</th>\n",
              "      <td>End-cap</td>\n",
              "      <td>Jeans</td>\n",
              "      <td>4</td>\n",
              "    </tr>\n",
              "    <tr>\n",
              "      <th>7</th>\n",
              "      <td>End-cap</td>\n",
              "      <td>Shoes</td>\n",
              "      <td>10</td>\n",
              "    </tr>\n",
              "    <tr>\n",
              "      <th>8</th>\n",
              "      <td>End-cap</td>\n",
              "      <td>Sweaters</td>\n",
              "      <td>17</td>\n",
              "    </tr>\n",
              "    <tr>\n",
              "      <th>9</th>\n",
              "      <td>End-cap</td>\n",
              "      <td>T-Shirts</td>\n",
              "      <td>12</td>\n",
              "    </tr>\n",
              "    <tr>\n",
              "      <th>10</th>\n",
              "      <td>Front of Store</td>\n",
              "      <td>Jackets</td>\n",
              "      <td>43</td>\n",
              "    </tr>\n",
              "    <tr>\n",
              "      <th>11</th>\n",
              "      <td>Front of Store</td>\n",
              "      <td>Jeans</td>\n",
              "      <td>2</td>\n",
              "    </tr>\n",
              "    <tr>\n",
              "      <th>12</th>\n",
              "      <td>Front of Store</td>\n",
              "      <td>Shoes</td>\n",
              "      <td>8</td>\n",
              "    </tr>\n",
              "    <tr>\n",
              "      <th>13</th>\n",
              "      <td>Front of Store</td>\n",
              "      <td>Sweaters</td>\n",
              "      <td>12</td>\n",
              "    </tr>\n",
              "    <tr>\n",
              "      <th>14</th>\n",
              "      <td>Front of Store</td>\n",
              "      <td>T-Shirts</td>\n",
              "      <td>4</td>\n",
              "    </tr>\n",
              "  </tbody>\n",
              "</table>\n",
              "</div>"
            ],
            "text/plain": [
              "   Product Position Product Line  Product ID\n",
              "0             Aisle      Jackets          54\n",
              "1             Aisle        Jeans           2\n",
              "2             Aisle        Shoes          13\n",
              "3             Aisle     Sweaters          12\n",
              "4             Aisle     T-Shirts          16\n",
              "5           End-cap      Jackets          43\n",
              "6           End-cap        Jeans           4\n",
              "7           End-cap        Shoes          10\n",
              "8           End-cap     Sweaters          17\n",
              "9           End-cap     T-Shirts          12\n",
              "10   Front of Store      Jackets          43\n",
              "11   Front of Store        Jeans           2\n",
              "12   Front of Store        Shoes           8\n",
              "13   Front of Store     Sweaters          12\n",
              "14   Front of Store     T-Shirts           4"
            ]
          },
          "metadata": {},
          "output_type": "display_data"
        }
      ],
      "source": [
        "# grouping product line by position\n",
        "display(df.groupby(['Product Position', 'Product Line'])['Product ID'].count().reset_index())"
      ]
    },
    {
      "cell_type": "markdown",
      "id": "c7b904d0",
      "metadata": {},
      "source": [
        "We will use seaborn to plot a bar chart with different color to identify which product has the most items in each Product Placement."
      ]
    },
    {
      "cell_type": "code",
      "execution_count": 53,
      "id": "05745aa4",
      "metadata": {},
      "outputs": [
        {
          "data": {
            "image/png": "[encoded data removed]",
            "text/plain": [
              "<Figure size 640x480 with 1 Axes>"
            ]
          },
          "metadata": {},
          "output_type": "display_data"
        }
      ],
      "source": [
        "# Aggregate the data\n",
        "product_position_df = df.groupby(['Product Position', 'Product Line'])['Product ID'].count().reset_index()\n",
        "\n",
        "# Plot using seaborn\n",
        "sns.barplot(data=product_position_df, x='Product Position', y='Product ID', hue='Product Line')\n",
        "plt.legend(bbox_to_anchor=(1,1))\n",
        "plt.show()"
      ]
    },
    {
      "cell_type": "markdown",
      "id": "b1f48e8f",
      "metadata": {},
      "source": [
        "Based on the chart above we can clearly see that *Jackets* is the most highlighted product during the campaign on each placement location. We can also see *Sweater* are also highlighted at the End-Cap and at the Front of Store.\n",
        "\n",
        "We are now understand that Zara wants to sell more *Jackets* and *Sweater* during this season campaign."
      ]
    },
    {
      "cell_type": "markdown",
      "id": "77fffbbe",
      "metadata": {},
      "source": [
        "#### Which product that have ongoing Promotion?\n",
        "\n",
        "As this is a seasonal campaign we want to see which product that are having promotion and how many items that are included in the promotions."
      ]
    },
    {
      "cell_type": "code",
      "execution_count": 54,
      "id": "5f432f36",
      "metadata": {},
      "outputs": [
        {
          "data": {
            "text/html": [
              "<div>\n",
              "<style scoped>\n",
              "    .dataframe tbody tr th:only-of-type {\n",
              "        vertical-align: middle;\n",
              "    }\n",
              "\n",
              "    .dataframe tbody tr th {\n",
              "        vertical-align: top;\n",
              "    }\n",
              "\n",
              "    .dataframe thead th {\n",
              "        text-align: right;\n",
              "    }\n",
              "</style>\n",
              "<table border=\"1\" class=\"dataframe\">\n",
              "  <thead>\n",
              "    <tr style=\"text-align: right;\">\n",
              "      <th>Promotion</th>\n",
              "      <th>No</th>\n",
              "      <th>Yes</th>\n",
              "    </tr>\n",
              "    <tr>\n",
              "      <th>Product Line</th>\n",
              "      <th></th>\n",
              "      <th></th>\n",
              "    </tr>\n",
              "  </thead>\n",
              "  <tbody>\n",
              "    <tr>\n",
              "      <th>Jackets</th>\n",
              "      <td>72</td>\n",
              "      <td>68</td>\n",
              "    </tr>\n",
              "    <tr>\n",
              "      <th>Jeans</th>\n",
              "      <td>5</td>\n",
              "      <td>3</td>\n",
              "    </tr>\n",
              "    <tr>\n",
              "      <th>Shoes</th>\n",
              "      <td>15</td>\n",
              "      <td>16</td>\n",
              "    </tr>\n",
              "    <tr>\n",
              "      <th>Sweaters</th>\n",
              "      <td>23</td>\n",
              "      <td>18</td>\n",
              "    </tr>\n",
              "    <tr>\n",
              "      <th>T-Shirts</th>\n",
              "      <td>17</td>\n",
              "      <td>15</td>\n",
              "    </tr>\n",
              "    <tr>\n",
              "      <th>Total</th>\n",
              "      <td>132</td>\n",
              "      <td>120</td>\n",
              "    </tr>\n",
              "  </tbody>\n",
              "</table>\n",
              "</div>"
            ],
            "text/plain": [
              "Promotion      No  Yes\n",
              "Product Line          \n",
              "Jackets        72   68\n",
              "Jeans           5    3\n",
              "Shoes          15   16\n",
              "Sweaters       23   18\n",
              "T-Shirts       17   15\n",
              "Total         132  120"
            ]
          },
          "metadata": {},
          "output_type": "display_data"
        },
        {
          "data": {
            "image/png": "[encoded data removed]",
            "text/plain": [
              "<Figure size 640x480 with 1 Axes>"
            ]
          },
          "metadata": {},
          "output_type": "display_data"
        }
      ],
      "source": [
        "# Create a pivot table with Product Line as rows and Promotion as columns\n",
        "# Create a pivot table with Product Line as rows and Promotion as columns, and add a total row\n",
        "promo_pivot = df.pivot_table(index='Product Line', columns='Promotion', values='Product ID', aggfunc='count', fill_value=0)\n",
        "promo_pivot.loc['Total'] = promo_pivot.sum()\n",
        "display(promo_pivot)\n",
        "\n",
        "# Visualize the pivot table with totals using matplotlib\n",
        "promo_pivot_no_total = promo_pivot.drop('Total')\n",
        "promo_pivot_no_total.plot(kind='bar', stacked=True)\n",
        "plt.ylabel('Number of Products')\n",
        "plt.title('Number of Products by Product Line and Promotion')\n",
        "plt.xticks(rotation=45)\n",
        "plt.legend(title='Promotion')\n",
        "plt.show()"
      ]
    },
    {
      "cell_type": "markdown",
      "id": "79017798",
      "metadata": {},
      "source": [
        "From the result above we can see the shares between product that has promotion and no promotion during the campaign are almomst equal in all product lines. \n",
        "\n",
        "If we look at by product line Jackets is the product that has more promotion and Jeans being the least product that has promotion. Again, based on this result Zara wants supplement the sales of the Jackets with promotion."
      ]
    },
    {
      "cell_type": "markdown",
      "id": "5fd6ff7b",
      "metadata": {},
      "source": [
        "#### What is the most highest sales among all the product line in Zara store?\n",
        "\n",
        "Now, lets talk about the main reason why Zara are doing the campaign, which is to generate sales. Let's see where is the chunk of the sales coming from?"
      ]
    },
    {
      "cell_type": "code",
      "execution_count": 55,
      "id": "9b0dc475",
      "metadata": {},
      "outputs": [
        {
          "data": {
            "text/html": [
              "<div>\n",
              "<style scoped>\n",
              "    .dataframe tbody tr th:only-of-type {\n",
              "        vertical-align: middle;\n",
              "    }\n",
              "\n",
              "    .dataframe tbody tr th {\n",
              "        vertical-align: top;\n",
              "    }\n",
              "\n",
              "    .dataframe thead th {\n",
              "        text-align: right;\n",
              "    }\n",
              "</style>\n",
              "<table border=\"1\" class=\"dataframe\">\n",
              "  <thead>\n",
              "    <tr style=\"text-align: right;\">\n",
              "      <th></th>\n",
              "      <th>Product Line</th>\n",
              "      <th>Sales Volume</th>\n",
              "    </tr>\n",
              "  </thead>\n",
              "  <tbody>\n",
              "    <tr>\n",
              "      <th>0</th>\n",
              "      <td>Jackets</td>\n",
              "      <td>259468</td>\n",
              "    </tr>\n",
              "    <tr>\n",
              "      <th>1</th>\n",
              "      <td>Jeans</td>\n",
              "      <td>13320</td>\n",
              "    </tr>\n",
              "    <tr>\n",
              "      <th>2</th>\n",
              "      <td>Shoes</td>\n",
              "      <td>57906</td>\n",
              "    </tr>\n",
              "    <tr>\n",
              "      <th>3</th>\n",
              "      <td>Sweaters</td>\n",
              "      <td>75242</td>\n",
              "    </tr>\n",
              "    <tr>\n",
              "      <th>4</th>\n",
              "      <td>T-Shirts</td>\n",
              "      <td>53637</td>\n",
              "    </tr>\n",
              "  </tbody>\n",
              "</table>\n",
              "</div>"
            ],
            "text/plain": [
              "  Product Line  Sales Volume\n",
              "0      Jackets        259468\n",
              "1        Jeans         13320\n",
              "2        Shoes         57906\n",
              "3     Sweaters         75242\n",
              "4     T-Shirts         53637"
            ]
          },
          "execution_count": 55,
          "metadata": {},
          "output_type": "execute_result"
        }
      ],
      "source": [
        "# grouping sales by product line\n",
        "Sales_Product_Pie = df.groupby(['Product Line'])['Sales Volume'].sum().reset_index()\n",
        "\n",
        "Sales_Product_Pie\n"
      ]
    },
    {
      "cell_type": "markdown",
      "id": "e35b0f85",
      "metadata": {},
      "source": [
        "From the grouping above we can see the majority of the sales from the Zara stores is coming from the Jackets.\n",
        "\n",
        "Let's create pie chart to see the portion of the sales contribution clearly."
      ]
    },
    {
      "cell_type": "code",
      "execution_count": 56,
      "id": "5db128a6",
      "metadata": {},
      "outputs": [
        {
          "data": {
            "text/plain": [
              "<Axes: ylabel='Sales Volume'>"
            ]
          },
          "execution_count": 56,
          "metadata": {},
          "output_type": "execute_result"
        },
        {
          "data": {
            "image/png": "[encoded data removed]",
            "text/plain": [
              "<Figure size 640x480 with 1 Axes>"
            ]
          },
          "metadata": {},
          "output_type": "display_data"
        }
      ],
      "source": [
        "\n",
        "Sales_Product_Pie.plot.pie(y='Sales Volume', labels=Sales_Product_Pie['Product Line'], autopct='%1.1f%%')"
      ]
    },
    {
      "cell_type": "markdown",
      "id": "54578bbd",
      "metadata": {},
      "source": [
        "Above is the pie chart of the sales volume, as we mention before Jackets is the highest contributor to sales with 56% followed by Sweaters and Shoes with 16.4% and 11.7% respectively.\n",
        "\n",
        "This finding sales contribution still reflects the number of items that the product has. There is no product lines thats lacking in sales based on  the items it carries."
      ]
    },
    {
      "cell_type": "markdown",
      "id": "42ed576e",
      "metadata": {
        "id": "42ed576e"
      },
      "source": [
        "## Descriptive Statistic"
      ]
    },
    {
      "cell_type": "markdown",
      "id": "92f1b54d",
      "metadata": {},
      "source": [
        "If we want to understand more about the data we run descriptive statistic to see on what is the meaning of the value of each variables and extract a lil bit information to help us answering more questions.\n"
      ]
    },
    {
      "cell_type": "markdown",
      "id": "030ac570",
      "metadata": {},
      "source": [
        "### Measurement of Central Tendency\n",
        "\n",
        "\n",
        "To begin we can do a Measuremenet of central tendency for `Sales Volume` and `Pricing`.\n"
      ]
    },
    {
      "cell_type": "markdown",
      "id": "ac740842",
      "metadata": {},
      "source": [
        "#### `Sales Volume`"
      ]
    },
    {
      "cell_type": "code",
      "execution_count": 57,
      "id": "7ebc3993",
      "metadata": {},
      "outputs": [
        {
          "name": "stdout",
          "output_type": "stream",
          "text": [
            "Sales Volume in Average: 1823.702380952381\n",
            "Median of Sales Volume: 1839.5\n",
            "Mode of Sales Volume: 1466\n",
            "\n",
            "Min of Sales Volume: 529\n",
            "Max of Sales Volume: 2989\n",
            "\n",
            "Std of Sales Volume: 697.703748471913\n"
          ]
        }
      ],
      "source": [
        "print('Sales Volume in Average:',df['Sales Volume'].mean())\n",
        "print('Median of Sales Volume:',df['Sales Volume'].median())\n",
        "print('Mode of Sales Volume:',df['Sales Volume'].mode().values[0])\n",
        "print()\n",
        "\n",
        "print('Min of Sales Volume:',df['Sales Volume'].min())\n",
        "print('Max of Sales Volume:',df['Sales Volume'].max())\n",
        "\n",
        "print()\n",
        "print('Std of Sales Volume:',df['Sales Volume'].std())"
      ]
    },
    {
      "cell_type": "markdown",
      "id": "b7ce1201",
      "metadata": {},
      "source": [
        "Above statistic tells that Zara sells their product in average value, with median and average is not that far 1823 units. While the minimium sales is 529 units and max 2989 units. These are not a very large gap in terms of average. So in overall almost all  the product is performing from statistical stand point.\n",
        "\n",
        "How about the price?"
      ]
    },
    {
      "cell_type": "markdown",
      "id": "e0926d01",
      "metadata": {},
      "source": [
        "#### `Price`"
      ]
    },
    {
      "cell_type": "code",
      "execution_count": 58,
      "id": "e11bf298",
      "metadata": {},
      "outputs": [
        {
          "name": "stdout",
          "output_type": "stream",
          "text": [
            "Price in Average: 86.25253968253968\n",
            "Median of Price: 79.9\n",
            "Mode of Price: 89.9\n",
            "\n",
            "Min of Price: 7.99\n",
            "Max of Price: 439.0\n",
            "\n",
            "Std of Price: 52.083204577886775\n"
          ]
        }
      ],
      "source": [
        "print('Price in Average:',df['Price'].mean())\n",
        "print('Median of Price:',df['Price'].median())\n",
        "print('Mode of Price:',df['Price'].mode().values[0])\n",
        "print()\n",
        "\n",
        "print('Min of Price:',df['Price'].min())\n",
        "print('Max of Price:',df['Price'].max())\n",
        "\n",
        "print()\n",
        "print('Std of Price:',df['Price'].std())"
      ]
    },
    {
      "cell_type": "markdown",
      "id": "999dbe46",
      "metadata": {},
      "source": [
        "Prices of the product is relatively on the average which is around ~$80 in all of the lines regardless of the promotion and non promotion. Median and Mode value has not shown a big gap, it means that they price their product not too distant for the customers. "
      ]
    },
    {
      "cell_type": "markdown",
      "id": "d78516bc",
      "metadata": {},
      "source": [
        "#### Skewness"
      ]
    },
    {
      "cell_type": "code",
      "execution_count": 59,
      "id": "fcd45359",
      "metadata": {},
      "outputs": [
        {
          "name": "stdout",
          "output_type": "stream",
          "text": [
            "Sales skewness: -0.11470576105859921\n",
            "Price skewness: 2.3836944627055656\n"
          ]
        }
      ],
      "source": [
        "print(f\"Sales skewness: {df['Sales Volume'].skew()}\")\n",
        "\n",
        "print(f\"Price skewness: {df['Price'].skew()}\")"
      ]
    },
    {
      "cell_type": "markdown",
      "id": "9b45622c",
      "metadata": {},
      "source": [
        "- Altough, if we look at the skewness Sales is slightly skew to the left but still more than -0.5 the value is almost in the normal distribution. \n",
        "\n",
        "- On the other hand we can see the Prices is leaning towards the right it means that there are prices in the higher or premium range."
      ]
    },
    {
      "cell_type": "markdown",
      "id": "18b3f8b1",
      "metadata": {},
      "source": [
        "### Measurement of Dispersion"
      ]
    },
    {
      "cell_type": "markdown",
      "id": "0b3aa140",
      "metadata": {},
      "source": [
        "#### Quartile"
      ]
    },
    {
      "cell_type": "markdown",
      "id": "9b230e96",
      "metadata": {},
      "source": [
        "To have a clearer view on the sales of the product, lets do a measurement of disperison and visualize the box plot to clearly see the median sales volume in Zara's store."
      ]
    },
    {
      "cell_type": "code",
      "execution_count": 60,
      "id": "fcebd1cb",
      "metadata": {},
      "outputs": [
        {
          "name": "stdout",
          "output_type": "stream",
          "text": [
            "Q1: 1243.0\n",
            "Q2: 1839.5\n",
            "Q3: 2398.75\n",
            "Interquartile Range (IQR): 1155.75\n"
          ]
        }
      ],
      "source": [
        "q1 = df['Sales Volume'].quantile(0.25)\n",
        "q2 = df['Sales Volume'].quantile(0.5)\n",
        "q3 = df['Sales Volume'].quantile(0.75)\n",
        "\n",
        "iqr = q3 - q1\n",
        "print('Q1:',q1)\n",
        "print('Q2:',q2)\n",
        "print('Q3:',q3)\n",
        "print('Interquartile Range (IQR):',iqr)"
      ]
    },
    {
      "cell_type": "markdown",
      "id": "7b432553",
      "metadata": {},
      "source": [
        "#### Illustration of Quartile on Boxplot"
      ]
    },
    {
      "cell_type": "code",
      "execution_count": 61,
      "id": "cea5b215",
      "metadata": {},
      "outputs": [
        {
          "data": {
            "image/png": "[encoded data removed]",
            "text/plain": [
              "<Figure size 600x400 with 1 Axes>"
            ]
          },
          "metadata": {},
          "output_type": "display_data"
        }
      ],
      "source": [
        "#@title Illustration of Quartile on Boxplot\n",
        "plt.figure(figsize=(6, 4))\n",
        "plt.boxplot(df['Sales Volume'], vert=False, patch_artist=True)\n",
        "\n",
        "plt.annotate(f'Q1 = {q1}', xy=(q1, 1.06), xytext=(q1, 1.2), arrowprops=dict(facecolor='black', arrowstyle='->'))\n",
        "plt.annotate(f'Q2 = {q2}', xy=(q2, 1.06), xytext=(q2, 1.3), arrowprops=dict(facecolor='black', arrowstyle='->'))\n",
        "plt.annotate(f'Q3 = {q3}', xy=(q3, 1.06), xytext=(q3, 1.2), arrowprops=dict(facecolor='black', arrowstyle='->'))\n",
        "plt.annotate(f'IQR = {iqr}', xy=((q1+q3)/2, 0.85), ha='center')\n",
        "\n",
        "plt.axvline(q1, linestyle='--', color='gray', label='Q1')\n",
        "plt.axvline(q3, linestyle='--', color='gray', label='Q3')\n",
        "plt.axvspan(q1, q3, alpha=0.2, color='gray', label='IQR')\n",
        "\n",
        "plt.xlabel('Values')\n",
        "plt.title('Boxplot of Sales Volume')\n",
        "\n",
        "plt.show()"
      ]
    },
    {
      "cell_type": "markdown",
      "id": "e8d14ed0",
      "metadata": {},
      "source": [
        "The IQR range is at 1155 units and the media falls at the 1839 units, we can clearly see there is no significant outlier in among all the sales volume.\n",
        "\n",
        "But, how about the price? Let's do another method to see if Pricing has its outliers. "
      ]
    },
    {
      "cell_type": "markdown",
      "id": "210379f2",
      "metadata": {
        "id": "210379f2"
      },
      "source": [
        "#### Outlier Analysis: Tukey's Rule"
      ]
    },
    {
      "cell_type": "markdown",
      "id": "3a1ecac1",
      "metadata": {},
      "source": [
        "Since the data is Skew greater than 1 we will be using Tukey's Rule "
      ]
    },
    {
      "cell_type": "code",
      "execution_count": 62,
      "id": "a9c68037",
      "metadata": {},
      "outputs": [
        {
          "name": "stdout",
          "output_type": "stream",
          "text": [
            "Upper Boundary: 197.65\n",
            "Lower Boundary: -38.75\n"
          ]
        }
      ],
      "source": [
        "q1 = df['Price'].quantile(0.25)\n",
        "q3 = df['Price'].quantile(0.75)\n",
        "iqr = q3-q1\n",
        "\n",
        "up_bound = q3 + 1.5*iqr\n",
        "low_bound = q1 - 1.5*iqr\n",
        "\n",
        "print(f'Upper Boundary: {up_bound:.2f}' )\n",
        "print(f'Lower Boundary: {low_bound:.2f}')"
      ]
    },
    {
      "cell_type": "code",
      "execution_count": 63,
      "id": "60107080",
      "metadata": {},
      "outputs": [
        {
          "name": "stdout",
          "output_type": "stream",
          "text": [
            "Upper Boundary: 197.65\n",
            "Lower Boundary: -38.75\n"
          ]
        }
      ],
      "source": [
        "q1 = df['Price'].quantile(0.25)\n",
        "q3 = df['Price'].quantile(0.75)\n",
        "iqr = q3-q1\n",
        "\n",
        "up_bound = q3 + 1.5*iqr\n",
        "low_bound = q1 - 1.5*iqr\n",
        "\n",
        "print(f'Upper Boundary: {up_bound:.2f}' )\n",
        "print(f'Lower Boundary: {low_bound:.2f}')"
      ]
    },
    {
      "cell_type": "code",
      "execution_count": 64,
      "id": "791afe66",
      "metadata": {},
      "outputs": [
        {
          "name": "stdout",
          "output_type": "stream",
          "text": [
            "Percentage of outliers: 1.59%%\n"
          ]
        }
      ],
      "source": [
        "# menjalankan perhitungan tukey rule dengan membedakan data outlier dan no outlier di dalam IQR\n",
        "outlier = df['Price'][(df['Price']<low_bound) | (df['Price']>up_bound)]\n",
        "no_outlier = df['Price'][(df['Price']>=low_bound) & (df['Price']<=up_bound)]\n",
        "\n",
        "print(f'Percentage of outliers: {len(outlier)*100/len(df[\"Price\"]):.2f}%%')"
      ]
    },
    {
      "cell_type": "markdown",
      "id": "97ce73f1",
      "metadata": {},
      "source": [
        "Turns out for the Pricing column we have a small percentage of outlier 1.59%.\n",
        "\n",
        "Lets see how they look in visualization"
      ]
    },
    {
      "cell_type": "markdown",
      "id": "c6253ee1",
      "metadata": {},
      "source": [
        "#### With Outlier"
      ]
    },
    {
      "cell_type": "code",
      "execution_count": 65,
      "id": "6aa59c0f",
      "metadata": {},
      "outputs": [
        {
          "data": {
            "text/plain": [
              "<Axes: >"
            ]
          },
          "execution_count": 65,
          "metadata": {},
          "output_type": "execute_result"
        },
        {
          "data": {
            "image/png": "[encoded data removed]",
            "text/plain": [
              "<Figure size 1000x400 with 2 Axes>"
            ]
          },
          "metadata": {},
          "output_type": "display_data"
        }
      ],
      "source": [
        "# menampilkan hanya data dengan outlier\n",
        "fig, ax = plt.subplots(ncols=2,figsize=(10,4))\n",
        "\n",
        "outlier.plot(kind='hist',bins=20,ax=ax[0])\n",
        "outlier.plot(kind='box',ax=ax[1])"
      ]
    },
    {
      "cell_type": "markdown",
      "id": "8ea44fb7",
      "metadata": {},
      "source": [
        "If we decide to visualize it with the outlier included we will have a very distinct bar chart that shows group of prices with the most is in the right part of the column with $440 and the rest on the other spectrum whic are below $300."
      ]
    },
    {
      "cell_type": "markdown",
      "id": "b2757983",
      "metadata": {},
      "source": [
        "#### No Outlier"
      ]
    },
    {
      "cell_type": "code",
      "execution_count": 66,
      "id": "9c4016da",
      "metadata": {},
      "outputs": [
        {
          "data": {
            "text/plain": [
              "<Axes: >"
            ]
          },
          "execution_count": 66,
          "metadata": {},
          "output_type": "execute_result"
        },
        {
          "data": {
            "image/png": "[encoded data removed]",
            "text/plain": [
              "<Figure size 1000x400 with 2 Axes>"
            ]
          },
          "metadata": {},
          "output_type": "display_data"
        }
      ],
      "source": [
        "# menampilkan hanya data dengan outlier\n",
        "fig, ax = plt.subplots(ncols=2,figsize=(10,4))\n",
        "\n",
        "no_outlier.plot(kind='hist',bins=20,ax=ax[0])\n",
        "no_outlier.plot(kind='box',ax=ax[1])"
      ]
    },
    {
      "cell_type": "markdown",
      "id": "96a0ea37",
      "metadata": {},
      "source": [
        "By removing the outliers, we can zoom in the group below the $300 price range and clearley see the prices of the Zara products.\n",
        "\n",
        "Zara pricing their product pretty thightly around the average of $80 among all the product line."
      ]
    },
    {
      "cell_type": "markdown",
      "id": "cb5dadea",
      "metadata": {},
      "source": [
        "#### Correlation Analysis\n",
        "\n",
        "We did a deep dive on numerical values on the data previously, in this part we will do a correlation analysis to see if between price and sales volume is linear.\n",
        "\n",
        "##### Do prices significantly affect customers decision when it comes to purchasing Zara's product? \n",
        "\n",
        "Let's reveal the answer using the plot chart:"
      ]
    },
    {
      "cell_type": "code",
      "execution_count": 67,
      "id": "a02f1509",
      "metadata": {},
      "outputs": [
        {
          "data": {
            "text/plain": [
              "<seaborn.axisgrid.FacetGrid at 0x169f7f500>"
            ]
          },
          "execution_count": 67,
          "metadata": {},
          "output_type": "execute_result"
        },
        {
          "data": {
            "image/png": "[encoded data removed]",
            "text/plain": [
              "<Figure size 500x500 with 1 Axes>"
            ]
          },
          "metadata": {},
          "output_type": "display_data"
        }
      ],
      "source": [
        "sns.lmplot(data=df,x='Sales Volume', y='Price')"
      ]
    },
    {
      "cell_type": "markdown",
      "id": "3dbb826f",
      "metadata": {},
      "source": [
        "What does it tell?"
      ]
    },
    {
      "cell_type": "code",
      "execution_count": 68,
      "id": "4a3c39b3",
      "metadata": {},
      "outputs": [
        {
          "name": "stdout",
          "output_type": "stream",
          "text": [
            "tau-correlation: -0.02, p-value: 0.6717787740032459\n"
          ]
        }
      ],
      "source": [
        "corr_tau, pval_k = stats.kendalltau(df['Price'], df['Sales Volume'])\n",
        "\n",
        "print(f\"tau-correlation: {corr_tau:.2f}, p-value: {pval_k}\")"
      ]
    },
    {
      "cell_type": "markdown",
      "id": "f2bd16a8",
      "metadata": {},
      "source": [
        "We uses Kendall's to measure linear relationship between these variable since our data is not normally distributed and they are monotinic. How about the result? \n",
        "\n",
        "- The result show there is negative tau-correlation of -0.02 meaning there is a weak correaltion between Price and Sales Volume.\n",
        "\n",
        "- Between Price and Sales in Zara is *p-value: 0.67. since p > 0.05 its not significant*. > determine if the correlation happen not by chance.\n",
        "\n",
        "Prices does not determine the sales of the product in Zara. Even if the prices is higher doesn't mean customers will buy/not buy the product (lower sales) and it does work the other way around as well.\n",
        "This is also shown in the chart, where all the bubbles goes along with the linear line almost creating a horizontal form."
      ]
    },
    {
      "cell_type": "markdown",
      "id": "9672493f",
      "metadata": {
        "id": "9672493f"
      },
      "source": [
        "## Inferential Statistic"
      ]
    },
    {
      "cell_type": "markdown",
      "id": "7062bf81",
      "metadata": {},
      "source": [
        "After visualizing the datas and have an understanding on how the product perform. We will begin to dive a lil bit deeper on the most important topic and the reason how is the sales generated and how is the factor of promotion and instore placement play its role."
      ]
    },
    {
      "cell_type": "markdown",
      "id": "c6b2d8df",
      "metadata": {},
      "source": [
        "### Hypothesis Testing"
      ]
    },
    {
      "cell_type": "markdown",
      "id": "777e564b",
      "metadata": {},
      "source": [
        "#### T-Tests\n",
        "\n",
        "##### 1. Is there a correlation between in-store product placement towards sales perfomance?\n",
        "\n",
        "That was the questions that we asked in the begining of the chapter. We can now run a T-tests and ANOVA to reveal the relationship."
      ]
    },
    {
      "cell_type": "markdown",
      "id": "9e1a06a3",
      "metadata": {},
      "source": [
        "To do this lets create a hypothesis:\n",
        "\n",
        "H0 : There is significant impact on sales when there is promotion\n",
        "\n",
        "H1 : There is no significant impact on sales when there is promotion"
      ]
    },
    {
      "cell_type": "code",
      "execution_count": 69,
      "id": "673389dc",
      "metadata": {},
      "outputs": [
        {
          "data": {
            "text/html": [
              "<div>\n",
              "<style scoped>\n",
              "    .dataframe tbody tr th:only-of-type {\n",
              "        vertical-align: middle;\n",
              "    }\n",
              "\n",
              "    .dataframe tbody tr th {\n",
              "        vertical-align: top;\n",
              "    }\n",
              "\n",
              "    .dataframe thead th {\n",
              "        text-align: right;\n",
              "    }\n",
              "</style>\n",
              "<table border=\"1\" class=\"dataframe\">\n",
              "  <thead>\n",
              "    <tr style=\"text-align: right;\">\n",
              "      <th></th>\n",
              "      <th>Promotion</th>\n",
              "      <th>Sales Volume</th>\n",
              "    </tr>\n",
              "  </thead>\n",
              "  <tbody>\n",
              "    <tr>\n",
              "      <th>0</th>\n",
              "      <td>No</td>\n",
              "      <td>240312</td>\n",
              "    </tr>\n",
              "    <tr>\n",
              "      <th>1</th>\n",
              "      <td>Yes</td>\n",
              "      <td>219261</td>\n",
              "    </tr>\n",
              "  </tbody>\n",
              "</table>\n",
              "</div>"
            ],
            "text/plain": [
              "  Promotion  Sales Volume\n",
              "0        No        240312\n",
              "1       Yes        219261"
            ]
          },
          "execution_count": 69,
          "metadata": {},
          "output_type": "execute_result"
        }
      ],
      "source": [
        "df.groupby(['Promotion'])['Sales Volume'].sum().reset_index()"
      ]
    },
    {
      "cell_type": "code",
      "execution_count": 70,
      "id": "2244a8af",
      "metadata": {},
      "outputs": [
        {
          "name": "stdout",
          "output_type": "stream",
          "text": [
            "T-Statistic: 0.07518445709038774\n",
            "P-value: 0.9401280778004142\n"
          ]
        }
      ],
      "source": [
        "sales_promo = df[df['Promotion'] == 'Yes']['Sales Volume']\n",
        "sales_nopromo = df[df['Promotion'] == 'No']['Sales Volume']\n",
        "\n",
        "t_stat, p_val = stats.ttest_ind(sales_promo, sales_nopromo)\n",
        "print('T-Statistic:', t_stat)\n",
        "print('P-value:', p_val)"
      ]
    },
    {
      "cell_type": "markdown",
      "id": "98af4557",
      "metadata": {},
      "source": [
        "The results shows the p-value is more > 0.05, it means ***we reject the null hypothesis***, meaning promotion doesn't really affect the sales of the products in Zara."
      ]
    },
    {
      "cell_type": "markdown",
      "id": "99fb946a",
      "metadata": {},
      "source": [
        "It makes us wonder, so what is really driving Zara's customer to actually but the product? Is it the because of the ***seasonal style*** during the campaign?\n",
        "\n",
        "##### 2. Are seasonal items more likely to have higher sales?\n",
        "\n",
        "Let's break it down using the same test.\n",
        "\n",
        "For this part, these are the hypothesis:\n",
        "\n",
        "H0 : There is significant impact on sales when product is Seasonal\n",
        "\n",
        "H1 : There is no significant impact on sales when product is Seasonal"
      ]
    },
    {
      "cell_type": "code",
      "execution_count": 71,
      "id": "a560590f",
      "metadata": {},
      "outputs": [
        {
          "data": {
            "text/html": [
              "<div>\n",
              "<style scoped>\n",
              "    .dataframe tbody tr th:only-of-type {\n",
              "        vertical-align: middle;\n",
              "    }\n",
              "\n",
              "    .dataframe tbody tr th {\n",
              "        vertical-align: top;\n",
              "    }\n",
              "\n",
              "    .dataframe thead th {\n",
              "        text-align: right;\n",
              "    }\n",
              "</style>\n",
              "<table border=\"1\" class=\"dataframe\">\n",
              "  <thead>\n",
              "    <tr style=\"text-align: right;\">\n",
              "      <th></th>\n",
              "      <th>Seasonal</th>\n",
              "      <th>Sales Volume</th>\n",
              "    </tr>\n",
              "  </thead>\n",
              "  <tbody>\n",
              "    <tr>\n",
              "      <th>0</th>\n",
              "      <td>No</td>\n",
              "      <td>226392</td>\n",
              "    </tr>\n",
              "    <tr>\n",
              "      <th>1</th>\n",
              "      <td>Yes</td>\n",
              "      <td>233181</td>\n",
              "    </tr>\n",
              "  </tbody>\n",
              "</table>\n",
              "</div>"
            ],
            "text/plain": [
              "  Seasonal  Sales Volume\n",
              "0       No        226392\n",
              "1      Yes        233181"
            ]
          },
          "execution_count": 71,
          "metadata": {},
          "output_type": "execute_result"
        }
      ],
      "source": [
        "df.groupby(['Seasonal'])['Sales Volume'].sum().reset_index()"
      ]
    },
    {
      "cell_type": "code",
      "execution_count": 72,
      "id": "b9d6fdee",
      "metadata": {},
      "outputs": [
        {
          "name": "stdout",
          "output_type": "stream",
          "text": [
            "T-Statistic: -0.04558325581946046\n",
            "P-value: 0.9636788048018804\n"
          ]
        }
      ],
      "source": [
        "sales_season = df[df['Seasonal'] == 'Yes']['Sales Volume']\n",
        "sales_noseason = df[df['Seasonal'] == 'No']['Sales Volume']\n",
        "\n",
        "t_stat, p_val = stats.ttest_ind(sales_season, sales_noseason)\n",
        "print('T-Statistic:', t_stat)\n",
        "print('P-value:', p_val)"
      ]
    },
    {
      "cell_type": "markdown",
      "id": "485c6ae4",
      "metadata": {},
      "source": [
        "Again, the results shows the p-value is more > 0.05, it means we reject the null hypothesis, seasonal product doesn't really affect the sales in Zara.\n",
        "\n",
        "Non seasonal product is still perform as during the period as well. It means customers still even though its not a seasonal product.\n",
        "\n",
        "This is very interesting finding that we will discuss on the Summary, what are the pattern and why are the customer behave as such."
      ]
    },
    {
      "cell_type": "markdown",
      "id": "9f285ec2",
      "metadata": {},
      "source": [
        "### ANOVA Test"
      ]
    },
    {
      "cell_type": "markdown",
      "id": "c28fa958",
      "metadata": {},
      "source": [
        "##### 3. How is the correlation in-store product placement towards sales perfomance?\n",
        "\n",
        "Lastly, lets talk about the instore product placement, we will find out which of the spot that does yield higher sales and we can also run ANOVA test to see which of the product placement is the most significant.\n"
      ]
    },
    {
      "cell_type": "markdown",
      "id": "0d0e03cf",
      "metadata": {},
      "source": [
        "Below are the number of items carried in each product placement"
      ]
    },
    {
      "cell_type": "code",
      "execution_count": 73,
      "id": "e1b5e54b",
      "metadata": {},
      "outputs": [
        {
          "data": {
            "text/plain": [
              "Product Position\n",
              "Aisle             97\n",
              "End-cap           86\n",
              "Front of Store    69\n",
              "Name: count, dtype: int64"
            ]
          },
          "execution_count": 73,
          "metadata": {},
          "output_type": "execute_result"
        }
      ],
      "source": [
        "df['Product Position'].value_counts()"
      ]
    },
    {
      "cell_type": "markdown",
      "id": "5ddfc9fd",
      "metadata": {},
      "source": [
        "We know that aisle is the place where it has the most product followed by the rest."
      ]
    },
    {
      "cell_type": "code",
      "execution_count": 74,
      "id": "6b092e6c",
      "metadata": {},
      "outputs": [
        {
          "name": "stdout",
          "output_type": "stream",
          "text": [
            "Avearge Sales of Aisle Group: 1828.82\n",
            "Avearge Sales of Endcap Group: 1778.26\n",
            "Avearge Sales of Front of Store Group: 1873.14\n"
          ]
        }
      ],
      "source": [
        "sales_aisle = df[df['Product Position'] == 'Aisle']['Sales Volume']\n",
        "sales_endcap = df[df['Product Position'] == 'End-cap']['Sales Volume']\n",
        "sales_fos = df[df['Product Position'] == 'Front of Store']['Sales Volume']\n",
        "\n",
        "print(f'Avearge Sales of Aisle Group: {sales_aisle.mean():.2f}')\n",
        "print(f'Avearge Sales of Endcap Group: {sales_endcap.mean():.2f}')\n",
        "print(f'Avearge Sales of Front of Store Group: {sales_fos.mean():.2f}')"
      ]
    },
    {
      "cell_type": "markdown",
      "id": "00520d47",
      "metadata": {},
      "source": [
        "Its also reflects on the average sales, where the Aisle is the place where revenue are generated. \n",
        "\n",
        "Interestingly, Front of the store average sales is higher meaning the proximity and visibility of the product placed there is vital to drive sales."
      ]
    },
    {
      "cell_type": "markdown",
      "id": "e3ae2efe",
      "metadata": {},
      "source": [
        "##### ANOVA Test\n",
        "\n",
        "##### How are each of the Product Position (Aisle, End-cap and Front of Stores) significantly differences among each of them? \n",
        "\n",
        "let's see the result from the ANOVA test below with below Hypothesis:\n",
        "\n",
        "\n",
        "H0: There are no significantly difference of product position among three categories\n",
        "\n",
        "H1: There are significantly difference of product positon among three categories"
      ]
    },
    {
      "cell_type": "code",
      "execution_count": 75,
      "id": "86c34728",
      "metadata": {},
      "outputs": [
        {
          "name": "stdout",
          "output_type": "stream",
          "text": [
            "P-value: 0.700498369384668\n"
          ]
        }
      ],
      "source": [
        "result = stats.f_oneway(sales_aisle, sales_endcap, sales_fos)\n",
        "print('P-value:',result.pvalue)"
      ]
    },
    {
      "cell_type": "markdown",
      "id": "f444fafc",
      "metadata": {
        "vscode": {
          "languageId": "powershell"
        }
      },
      "source": [
        "The result show that the p-value is > 0.05 it means that there are no significant differences among all the produt placement. ***H0 is rejected***\n",
        "\n",
        "Since all the product might be displayed in all the product placement there is tendency of the customers still buying the product regardless the location."
      ]
    },
    {
      "cell_type": "markdown",
      "id": "0c2495f3",
      "metadata": {
        "id": "0c2495f3"
      },
      "source": [
        "# 6. Conclusion"
      ]
    },
    {
      "cell_type": "markdown",
      "id": "3263f353",
      "metadata": {},
      "source": [
        "To conclode this analysis let's create a summary and recommendation for Zara's store."
      ]
    },
    {
      "cell_type": "markdown",
      "id": "4cc54895",
      "metadata": {},
      "source": [
        "### Summary"
      ]
    },
    {
      "cell_type": "markdown",
      "id": "82165104",
      "metadata": {},
      "source": [
        "Here are some of the summary of the analysis:\n",
        "\n",
        "- Most of the product line in Zara's store are on promotion during the campaign.\n",
        "\n",
        "- Jackets is the most highlighted item during the promtion campaign. \n",
        "\n",
        "- Hence the sales of the Jacket is the highest among all product line followed by Sweaters. \n",
        "\n",
        "- Surprisingly T-shirt is the third most sold products even if they are not in the season.\n",
        "\n",
        "On the statistical part we have some key findings from the analysis:\n",
        "\n",
        "- Zara's pricing their product thightly moderate nor premium products.\n",
        "\n",
        "\n",
        "- Price and promotion has no significant towards the sales volume. Customers will still buy the product regardless of the price and promotion. This is due to nature of the fast fashion that only carries SKUs that are high movers or on demand.\n",
        "\n",
        "\n",
        "- Front of the store is the highest average of the sales coming from. It is because visibilty of the product is higher where its direct spotlight to foot traffic.\n",
        "\n",
        "- All the product placement has no significance difference meaning all the product would also sells on the other spot at the shops. Due, to product displayed at all instore placement (Aisle, End-cap and Front of Store)\n"
      ]
    },
    {
      "cell_type": "markdown",
      "id": "b9fa2585",
      "metadata": {},
      "source": [
        "### Recommendation"
      ]
    },
    {
      "cell_type": "markdown",
      "id": "41bd162a",
      "metadata": {},
      "source": [
        "So, what's in it for Zara from this analysis?\n",
        "\n",
        "- Since all the products are well sold both with promotion and seasonal products, Zara should focus on the placement of the product by prioritizing potential items with higher Volume to be placed at the Front of The Store.\n",
        "\n",
        "- Doing a rotation to all the products leveraging the Front of Store as the driver to sell more.\n",
        "\n",
        "What's next to further enhance the analyis\n",
        "\n",
        "- We can do a more segmented analysis based on the sub categories of the producst. (Since we are doing only high level on Product lines)\n",
        "\n",
        "- Run an A/B testing for specific SKUs to see which promotion and placement well suited for specific single items.\n",
        "\n",
        "- Gather a daily sales datas, to analyze deeper on the trends throughout period. This will enables us to see WHEN is the best time to do activites(launcing,promotion or stock rotation)"
      ]
    },
    {
      "cell_type": "markdown",
      "id": "1231364c",
      "metadata": {},
      "source": [
        "#### Takeaway Stories"
      ]
    },
    {
      "cell_type": "markdown",
      "id": "a0e01feb",
      "metadata": {},
      "source": [
        "Imagine you are walking in to Zara's store.\n",
        "\n",
        "Before entering the shop, we will see manequins and front display of this Season special winter items with Jackets and Sweater as the most highlighted products.\n",
        "\n",
        "Upon entering and we will see many Promotion banners for Winter Season, now you will catch your first attention at the end-cap and you will start walking down the aisle to browse for more.\n",
        "\n",
        "Eventually, you will walk back front of the store then grab and purchase the product that you browsed previously.\n",
        "\n",
        "As most of the products are on sales we are tend just focus on what product we need that match our style. Product placement act as selling agent without you even notice."
      ]
    },
    {
      "cell_type": "markdown",
      "id": "adc82091",
      "metadata": {},
      "source": [
        "##### Export File\n",
        "\n",
        "We will export this data to CSV to begin Dashboarding in Tableau"
      ]
    },
    {
      "cell_type": "code",
      "execution_count": 76,
      "id": "23b322c2",
      "metadata": {},
      "outputs": [],
      "source": [
        "df.to_csv('dashboard_data.csv', index=False)"
      ]
    }
  ],
  "metadata": {
    "colab": {
      "collapsed_sections": [
        "05c94e98",
        "27d9c1a3",
        "42ed576e",
        "9672493f"
      ],
      "provenance": []
    },
    "kernelspec": {
      "display_name": "base",
      "language": "python",
      "name": "python3"
    },
    "language_info": {
      "codemirror_mode": {
        "name": "ipython",
        "version": 3
      },
      "file_extension": ".py",
      "mimetype": "text/x-python",
      "name": "python",
      "nbconvert_exporter": "python",
      "pygments_lexer": "ipython3",
      "version": "3.12.7"
    }
  },
  "nbformat": 4,
  "nbformat_minor": 5
}
